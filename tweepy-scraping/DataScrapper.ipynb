{
  "nbformat": 4,
  "nbformat_minor": 0,
  "metadata": {
    "colab": {
      "provenance": [],
      "collapsed_sections": []
    },
    "kernelspec": {
      "name": "python3",
      "display_name": "Python 3"
    },
    "language_info": {
      "name": "python"
    }
  },
  "cells": [
    {
      "cell_type": "code",
      "execution_count": 26,
      "metadata": {
        "colab": {
          "base_uri": "https://localhost:8080/"
        },
        "id": "RvhPOIusYT2q",
        "outputId": "ef485d09-c88b-4282-d32c-93c1d1513454"
      },
      "outputs": [
        {
          "output_type": "stream",
          "name": "stdout",
          "text": [
            "Looking in indexes: https://pypi.org/simple, https://us-python.pkg.dev/colab-wheels/public/simple/\n",
            "Requirement already satisfied: tweepy in /usr/local/lib/python3.7/dist-packages (3.10.0)\n",
            "Requirement already satisfied: requests-oauthlib>=0.7.0 in /usr/local/lib/python3.7/dist-packages (from tweepy) (1.3.1)\n",
            "Requirement already satisfied: six>=1.10.0 in /usr/local/lib/python3.7/dist-packages (from tweepy) (1.15.0)\n",
            "Requirement already satisfied: requests[socks]>=2.11.1 in /usr/local/lib/python3.7/dist-packages (from tweepy) (2.23.0)\n",
            "Requirement already satisfied: oauthlib>=3.0.0 in /usr/local/lib/python3.7/dist-packages (from requests-oauthlib>=0.7.0->tweepy) (3.2.0)\n",
            "Requirement already satisfied: chardet<4,>=3.0.2 in /usr/local/lib/python3.7/dist-packages (from requests[socks]>=2.11.1->tweepy) (3.0.4)\n",
            "Requirement already satisfied: urllib3!=1.25.0,!=1.25.1,<1.26,>=1.21.1 in /usr/local/lib/python3.7/dist-packages (from requests[socks]>=2.11.1->tweepy) (1.24.3)\n",
            "Requirement already satisfied: idna<3,>=2.5 in /usr/local/lib/python3.7/dist-packages (from requests[socks]>=2.11.1->tweepy) (2.10)\n",
            "Requirement already satisfied: certifi>=2017.4.17 in /usr/local/lib/python3.7/dist-packages (from requests[socks]>=2.11.1->tweepy) (2022.6.15)\n",
            "Requirement already satisfied: PySocks!=1.5.7,>=1.5.6 in /usr/local/lib/python3.7/dist-packages (from requests[socks]>=2.11.1->tweepy) (1.7.1)\n"
          ]
        }
      ],
      "source": [
        "pip install tweepy"
      ]
    },
    {
      "cell_type": "code",
      "source": [
        "\n",
        "import tweepy\n",
        "consumer_key = \"\"\n",
        "consumer_secret = \"\"\n",
        "access_token = \"\"\n",
        "access_token_secret = \"\"\n",
        "auth = tweepy.OAuthHandler(consumer_key, consumer_secret)\n",
        "auth.set_access_token(access_token, access_token_secret)\n",
        "api = tweepy.API(auth)\n",
        "tweetCountTest = 10;\n",
        "\n",
        "q = \"corona\"\n",
        "tweet = list(tweepy.Cursor(api.search,q,lang='en', since=\"2022-08-20\", until=\"2021-09-20\",tweet_mode='extended').items(tweetCountTest))\n",
        "for tweets in tweet:\n",
        "        print(tweets.full_text)\n",
        "# searchQuery = \"Coronavirus\"\n",
        "# for tweets in tw.Cursor(api.search(q=searchQuery)).items():\n",
        "#   print(tweets.text);\n",
        "# print(API.search(q=searchQuery,count=100, lang=\"en\",since=\"2022-09-20\", until=\"2020-09-22\"));\n",
        "# for tweet in tw.Cursor(API.search, q=searchQuery, lang=\"en\", since=\"2022-09-20\", until=\"2020-09-22\").items():\n",
        "       \n",
        "#        print(tweet);\n",
        "#        print(tweet.created_at, tweet.text)\n",
        "       \n",
        "#        #csvWriter.writerow([tweet.created_at, tweet.text.encode('utf-8')])\n",
        "#        tweetCountTest += 1\n",
        "#        print(tweetCountTest)\n",
        "# print(tw.Cursor(API.search, q=searchQuery, count=100, lang=\"en\", since=\"2022-09-20\", until=\"2020-09-22\").items());\n",
        "\n"
      ],
      "metadata": {
        "id": "CtR__Ogobb3m"
      },
      "execution_count": 73,
      "outputs": []
    },
    {
      "cell_type": "code",
      "source": [
        "pip install GetOldTweets3"
      ],
      "metadata": {
        "colab": {
          "base_uri": "https://localhost:8080/"
        },
        "id": "1DUCwfy_sQnk",
        "outputId": "a9310495-a7ae-4e3d-f3c6-454b43ae8d5a"
      },
      "execution_count": 74,
      "outputs": [
        {
          "output_type": "stream",
          "name": "stdout",
          "text": [
            "Looking in indexes: https://pypi.org/simple, https://us-python.pkg.dev/colab-wheels/public/simple/\n",
            "Requirement already satisfied: GetOldTweets3 in /usr/local/lib/python3.7/dist-packages (0.0.11)\n",
            "Requirement already satisfied: pyquery>=1.2.10 in /usr/local/lib/python3.7/dist-packages (from GetOldTweets3) (1.4.3)\n",
            "Requirement already satisfied: lxml>=3.5.0 in /usr/local/lib/python3.7/dist-packages (from GetOldTweets3) (4.9.1)\n",
            "Requirement already satisfied: cssselect>0.7.9 in /usr/local/lib/python3.7/dist-packages (from pyquery>=1.2.10->GetOldTweets3) (1.1.0)\n"
          ]
        }
      ]
    },
    {
      "cell_type": "code",
      "source": [
        "import GetOldTweets3 as got\n",
        "import sys\n",
        "def extract_tweets(hashtag):\n",
        "      \n",
        "    gettweet= got.manager.TweetCriteria().setQuerySearch(hashtag) \\\n",
        "        .setSince(\"2020-01-01\") \\\n",
        "        .setUntil(\"2020-05-01\") \\\n",
        "        .setMaxTweets(10)\n",
        "      \n",
        "    # Creation of list that contains all tweets\n",
        "    tweets = got.manager.TweetManager.getTweets(gettweet)\n",
        "      \n",
        "    # Creating list of chosen tweet data\n",
        "    text_tweets = [[tweet.text] for tweet in tweets]\n",
        "    print(text_tweets)\n",
        "    sys.exit()\n",
        "\n",
        "extract_tweets('COVID19')\n"
      ],
      "metadata": {
        "colab": {
          "base_uri": "https://localhost:8080/",
          "height": 148
        },
        "id": "c2wD7O1mxuXr",
        "outputId": "71d21e51-4961-47c6-fdb6-f38792fade8c"
      },
      "execution_count": 79,
      "outputs": [
        {
          "output_type": "stream",
          "name": "stdout",
          "text": [
            "An error occured during an HTTP request: HTTP Error 404: Not Found\n",
            "Try to open in browser: https://twitter.com/search?q=COVID19%20since%3A2020-01-01%20until%3A2020-05-01&src=typd\n"
          ]
        },
        {
          "output_type": "error",
          "ename": "SystemExit",
          "evalue": "ignored",
          "traceback": [
            "An exception has occurred, use %tb to see the full traceback.\n",
            "\u001b[0;31mSystemExit\u001b[0m\n"
          ]
        }
      ]
    }
  ]
}