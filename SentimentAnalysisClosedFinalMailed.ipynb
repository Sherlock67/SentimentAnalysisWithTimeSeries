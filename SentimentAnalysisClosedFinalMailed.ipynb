{
 "cells": [
  {
   "cell_type": "code",
   "execution_count": 1,
   "metadata": {},
   "outputs": [],
   "source": [
    "import os\n",
    "import re\n",
    "import pandas as pd\n",
    "import numpy as np\n",
    "import nltk\n",
    "import gensim \n",
    "from sklearn.metrics import precision_recall_curve,roc_curve\n",
    "from nltk.stem import SnowballStemmer\n",
    "from nltk.corpus import stopwords\n",
    "from sklearn.feature_extraction.text import TfidfVectorizer\n",
    "from sklearn.model_selection import train_test_split\n",
    "from keras.preprocessing.text import Tokenizer\n",
    "from keras.utils.np_utils import to_categorical\n",
    "from keras.models import Sequential,Model\n",
    "from keras.layers import Dense,Embedding, LSTM,SpatialDropout1D\n",
    "from keras.layers import Activation\n",
    "from keras.optimizers import Adam\n",
    "from keras.preprocessing.sequence import pad_sequences\n",
    "from keras import backend as K\n",
    "os.environ['KERAS_BACKEND']='theano'"
   ]
  },
  {
   "cell_type": "code",
   "execution_count": 2,
   "metadata": {},
   "outputs": [
    {
     "data": {
      "text/html": [
       "<div>\n",
       "<style scoped>\n",
       "    .dataframe tbody tr th:only-of-type {\n",
       "        vertical-align: middle;\n",
       "    }\n",
       "\n",
       "    .dataframe tbody tr th {\n",
       "        vertical-align: top;\n",
       "    }\n",
       "\n",
       "    .dataframe thead th {\n",
       "        text-align: right;\n",
       "    }\n",
       "</style>\n",
       "<table border=\"1\" class=\"dataframe\">\n",
       "  <thead>\n",
       "    <tr style=\"text-align: right;\">\n",
       "      <th></th>\n",
       "      <th>text</th>\n",
       "    </tr>\n",
       "  </thead>\n",
       "  <tbody>\n",
       "    <tr>\n",
       "      <th>3661</th>\n",
       "      <td>Washington reports 818 new cases bringing tota...</td>\n",
       "    </tr>\n",
       "    <tr>\n",
       "      <th>12691</th>\n",
       "      <td>??????? ????? ?? ????? ??????? ?? ?????? ?????...</td>\n",
       "    </tr>\n",
       "    <tr>\n",
       "      <th>8699</th>\n",
       "      <td>Alarming new data shows #half of #YoungAdults ...</td>\n",
       "    </tr>\n",
       "    <tr>\n",
       "      <th>8994</th>\n",
       "      <td>I was the only person wearing a face mask in t...</td>\n",
       "    </tr>\n",
       "    <tr>\n",
       "      <th>24261</th>\n",
       "      <td>#COVID19 #coronavirus #europa\\nhttps://orf.at/...</td>\n",
       "    </tr>\n",
       "    <tr>\n",
       "      <th>...</th>\n",
       "      <td>...</td>\n",
       "    </tr>\n",
       "    <tr>\n",
       "      <th>10955</th>\n",
       "      <td>#Ahora #Urgente\\nSe confirmaron en este miérco...</td>\n",
       "    </tr>\n",
       "    <tr>\n",
       "      <th>17289</th>\n",
       "      <td>California reports 259 new cases and 1 new dea...</td>\n",
       "    </tr>\n",
       "    <tr>\n",
       "      <th>5192</th>\n",
       "      <td>Thank you @ReporterCassie and @10News for the ...</td>\n",
       "    </tr>\n",
       "    <tr>\n",
       "      <th>12172</th>\n",
       "      <td>What the Dengue Vaccine Riddle Says About the ...</td>\n",
       "    </tr>\n",
       "    <tr>\n",
       "      <th>235</th>\n",
       "      <td>#QuédateEnCasa  y sigue la transmisión de la C...</td>\n",
       "    </tr>\n",
       "  </tbody>\n",
       "</table>\n",
       "<p>25569 rows × 1 columns</p>\n",
       "</div>"
      ],
      "text/plain": [
       "                                                    text\n",
       "3661   Washington reports 818 new cases bringing tota...\n",
       "12691  ??????? ????? ?? ????? ??????? ?? ?????? ?????...\n",
       "8699   Alarming new data shows #half of #YoungAdults ...\n",
       "8994   I was the only person wearing a face mask in t...\n",
       "24261  #COVID19 #coronavirus #europa\\nhttps://orf.at/...\n",
       "...                                                  ...\n",
       "10955  #Ahora #Urgente\\nSe confirmaron en este miérco...\n",
       "17289  California reports 259 new cases and 1 new dea...\n",
       "5192   Thank you @ReporterCassie and @10News for the ...\n",
       "12172  What the Dengue Vaccine Riddle Says About the ...\n",
       "235    #QuédateEnCasa  y sigue la transmisión de la C...\n",
       "\n",
       "[25569 rows x 1 columns]"
      ]
     },
     "execution_count": 2,
     "metadata": {},
     "output_type": "execute_result"
    }
   ],
   "source": [
    "data_en = \"ISO-8859-1\"\n",
    "df = pd.read_csv('DataSet.csv',encoding=data_en)\n",
    "df=df[['text']]\n",
    "# df_temp = pd.DataFrame(df,columns =['username','user_id','timestamp','text'])\n",
    "df = df.sample(n=25569, random_state=1)\n",
    "df"
   ]
  },
  {
   "cell_type": "code",
   "execution_count": 3,
   "metadata": {},
   "outputs": [
    {
     "name": "stderr",
     "output_type": "stream",
     "text": [
      "[nltk_data] Downloading package stopwords to\n",
      "[nltk_data]     C:\\Users\\admin\\AppData\\Roaming\\nltk_data...\n",
      "[nltk_data]   Package stopwords is already up-to-date!\n"
     ]
    }
   ],
   "source": [
    "clean1 = \"@\\S+|https?:\\S+|http?:\\S|[^A-Za-z0-9]+#\"\n",
    "nltk.download('stopwords')\n",
    "stop_words = stopwords.words(\"english\")\n",
    "stemmer = SnowballStemmer(\"english\")\n",
    "def preprocess(text,stem=False):\n",
    "    text = re.sub(clean1,' ',str(text).lower()).strip()\n",
    "    tokens = []\n",
    "    for token in text.split():\n",
    "        if token not in stop_words:\n",
    "            if stem:\n",
    "                tokens.append(stemmer.stem(token))\n",
    "            else:\n",
    "                tokens.append(token)\n",
    "    return \" \".join(tokens)    "
   ]
  },
  {
   "cell_type": "code",
   "execution_count": 4,
   "metadata": {},
   "outputs": [
    {
     "data": {
      "text/html": [
       "<div>\n",
       "<style scoped>\n",
       "    .dataframe tbody tr th:only-of-type {\n",
       "        vertical-align: middle;\n",
       "    }\n",
       "\n",
       "    .dataframe tbody tr th {\n",
       "        vertical-align: top;\n",
       "    }\n",
       "\n",
       "    .dataframe thead th {\n",
       "        text-align: right;\n",
       "    }\n",
       "</style>\n",
       "<table border=\"1\" class=\"dataframe\">\n",
       "  <thead>\n",
       "    <tr style=\"text-align: right;\">\n",
       "      <th></th>\n",
       "      <th>text</th>\n",
       "    </tr>\n",
       "  </thead>\n",
       "  <tbody>\n",
       "    <tr>\n",
       "      <th>3661</th>\n",
       "      <td>washington report 818 new case bring total con...</td>\n",
       "    </tr>\n",
       "    <tr>\n",
       "      <th>12691</th>\n",
       "      <td>covid19 stayhom isol selfquarantin</td>\n",
       "    </tr>\n",
       "    <tr>\n",
       "      <th>8699</th>\n",
       "      <td>alarm new data show half youngadult (age 18-29...</td>\n",
       "    </tr>\n",
       "    <tr>\n",
       "      <th>8994</th>\n",
       "      <td>person wear face mask supermarket today. dont...</td>\n",
       "    </tr>\n",
       "    <tr>\n",
       "      <th>24261</th>\n",
       "      <td>#covid19 coronavirus europa</td>\n",
       "    </tr>\n",
       "    <tr>\n",
       "      <th>11687</th>\n",
       "      <td>\"the declin influenza case occur exact test co...</td>\n",
       "    </tr>\n",
       "    <tr>\n",
       "      <th>3439</th>\n",
       "      <td>maduro extiend estado de alarma cuarentena en ...</td>\n",
       "    </tr>\n",
       "    <tr>\n",
       "      <th>15164</th>\n",
       "      <td>luo baishan, investigador de la compañía china...</td>\n",
       "    </tr>\n",
       "    <tr>\n",
       "      <th>25076</th>\n",
       "      <td>number peopl victoria hospit battl covid19 alm...</td>\n",
       "    </tr>\n",
       "    <tr>\n",
       "      <th>1098</th>\n",
       "      <td>l'influenc des journalist diminu polqc qcpol q...</td>\n",
       "    </tr>\n",
       "    <tr>\n",
       "      <th>3948</th>\n",
       "      <td>alguien que le pase est twitt nicoleta cía arg...</td>\n",
       "    </tr>\n",
       "    <tr>\n",
       "      <th>11890</th>\n",
       "      <td>5 new case barbado [0:42 gmt coronavirus coron...</td>\n",
       "    </tr>\n",
       "    <tr>\n",
       "      <th>22646</th>\n",
       "      <td>coronavirus hot spots: could mid-atlant northe...</td>\n",
       "    </tr>\n",
       "    <tr>\n",
       "      <th>16944</th>\n",
       "      <td>#trumprallytulsa coronavirus covid19 coronapal...</td>\n",
       "    </tr>\n",
       "    <tr>\n",
       "      <th>9252</th>\n",
       "      <td>pandemic: kid go back school cvid19 coronaviru...</td>\n",
       "    </tr>\n",
       "    <tr>\n",
       "      <th>16221</th>\n",
       "      <td>herculean task test long-term-car nursing-ho...</td>\n",
       "    </tr>\n",
       "    <tr>\n",
       "      <th>3415</th>\n",
       "      <td>latest world news! thank covid19 coronavirus</td>\n",
       "    </tr>\n",
       "    <tr>\n",
       "      <th>20648</th>\n",
       "      <td>okay feel okay, i'v told covid19 coronavirus l...</td>\n",
       "    </tr>\n",
       "    <tr>\n",
       "      <th>15792</th>\n",
       "      <td>coronavirus plenissímo sabendo que é mai pegad...</td>\n",
       "    </tr>\n",
       "    <tr>\n",
       "      <th>3294</th>\n",
       "      <td>#santaf comprará china elemento de biosegurida...</td>\n",
       "    </tr>\n",
       "  </tbody>\n",
       "</table>\n",
       "</div>"
      ],
      "text/plain": [
       "                                                    text\n",
       "3661   washington report 818 new case bring total con...\n",
       "12691                 covid19 stayhom isol selfquarantin\n",
       "8699   alarm new data show half youngadult (age 18-29...\n",
       "8994   person wear face mask supermarket today. dont...\n",
       "24261                        #covid19 coronavirus europa\n",
       "11687  \"the declin influenza case occur exact test co...\n",
       "3439   maduro extiend estado de alarma cuarentena en ...\n",
       "15164  luo baishan, investigador de la compañía china...\n",
       "25076  number peopl victoria hospit battl covid19 alm...\n",
       "1098   l'influenc des journalist diminu polqc qcpol q...\n",
       "3948   alguien que le pase est twitt nicoleta cía arg...\n",
       "11890  5 new case barbado [0:42 gmt coronavirus coron...\n",
       "22646  coronavirus hot spots: could mid-atlant northe...\n",
       "16944  #trumprallytulsa coronavirus covid19 coronapal...\n",
       "9252   pandemic: kid go back school cvid19 coronaviru...\n",
       "16221  herculean task test long-term-car nursing-ho...\n",
       "3415        latest world news! thank covid19 coronavirus\n",
       "20648  okay feel okay, i'v told covid19 coronavirus l...\n",
       "15792  coronavirus plenissímo sabendo que é mai pegad...\n",
       "3294   #santaf comprará china elemento de biosegurida..."
      ]
     },
     "execution_count": 4,
     "metadata": {},
     "output_type": "execute_result"
    }
   ],
   "source": [
    "df.text = df.text.apply(lambda x: preprocess(x,True))\n",
    "df.head(20)"
   ]
  },
  {
   "cell_type": "code",
   "execution_count": 5,
   "metadata": {},
   "outputs": [
    {
     "data": {
      "text/html": [
       "<div>\n",
       "<style scoped>\n",
       "    .dataframe tbody tr th:only-of-type {\n",
       "        vertical-align: middle;\n",
       "    }\n",
       "\n",
       "    .dataframe tbody tr th {\n",
       "        vertical-align: top;\n",
       "    }\n",
       "\n",
       "    .dataframe thead th {\n",
       "        text-align: right;\n",
       "    }\n",
       "</style>\n",
       "<table border=\"1\" class=\"dataframe\">\n",
       "  <thead>\n",
       "    <tr style=\"text-align: right;\">\n",
       "      <th></th>\n",
       "      <th>text</th>\n",
       "      <th>Polarity</th>\n",
       "      <th>c1</th>\n",
       "    </tr>\n",
       "  </thead>\n",
       "  <tbody>\n",
       "    <tr>\n",
       "      <th>3661</th>\n",
       "      <td>washington report 818 new case bring total con...</td>\n",
       "      <td>0.081818</td>\n",
       "      <td>2</td>\n",
       "    </tr>\n",
       "    <tr>\n",
       "      <th>12691</th>\n",
       "      <td>covid19 stayhom isol selfquarantin</td>\n",
       "      <td>0.000000</td>\n",
       "      <td>0</td>\n",
       "    </tr>\n",
       "    <tr>\n",
       "      <th>8699</th>\n",
       "      <td>alarm new data show half youngadult (age 18-29...</td>\n",
       "      <td>0.000606</td>\n",
       "      <td>2</td>\n",
       "    </tr>\n",
       "    <tr>\n",
       "      <th>8994</th>\n",
       "      <td>person wear face mask supermarket today. dont...</td>\n",
       "      <td>0.000000</td>\n",
       "      <td>0</td>\n",
       "    </tr>\n",
       "    <tr>\n",
       "      <th>24261</th>\n",
       "      <td>#covid19 coronavirus europa</td>\n",
       "      <td>0.000000</td>\n",
       "      <td>0</td>\n",
       "    </tr>\n",
       "    <tr>\n",
       "      <th>11687</th>\n",
       "      <td>\"the declin influenza case occur exact test co...</td>\n",
       "      <td>0.250000</td>\n",
       "      <td>2</td>\n",
       "    </tr>\n",
       "    <tr>\n",
       "      <th>3439</th>\n",
       "      <td>maduro extiend estado de alarma cuarentena en ...</td>\n",
       "      <td>0.000000</td>\n",
       "      <td>0</td>\n",
       "    </tr>\n",
       "    <tr>\n",
       "      <th>15164</th>\n",
       "      <td>luo baishan, investigador de la compañía china...</td>\n",
       "      <td>0.000000</td>\n",
       "      <td>0</td>\n",
       "    </tr>\n",
       "    <tr>\n",
       "      <th>25076</th>\n",
       "      <td>number peopl victoria hospit battl covid19 alm...</td>\n",
       "      <td>-0.250000</td>\n",
       "      <td>1</td>\n",
       "    </tr>\n",
       "    <tr>\n",
       "      <th>1098</th>\n",
       "      <td>l'influenc des journalist diminu polqc qcpol q...</td>\n",
       "      <td>0.000000</td>\n",
       "      <td>0</td>\n",
       "    </tr>\n",
       "    <tr>\n",
       "      <th>3948</th>\n",
       "      <td>alguien que le pase est twitt nicoleta cía arg...</td>\n",
       "      <td>0.000000</td>\n",
       "      <td>0</td>\n",
       "    </tr>\n",
       "    <tr>\n",
       "      <th>11890</th>\n",
       "      <td>5 new case barbado [0:42 gmt coronavirus coron...</td>\n",
       "      <td>0.136364</td>\n",
       "      <td>2</td>\n",
       "    </tr>\n",
       "    <tr>\n",
       "      <th>22646</th>\n",
       "      <td>coronavirus hot spots: could mid-atlant northe...</td>\n",
       "      <td>0.375000</td>\n",
       "      <td>2</td>\n",
       "    </tr>\n",
       "    <tr>\n",
       "      <th>16944</th>\n",
       "      <td>#trumprallytulsa coronavirus covid19 coronapal...</td>\n",
       "      <td>0.000000</td>\n",
       "      <td>0</td>\n",
       "    </tr>\n",
       "    <tr>\n",
       "      <th>9252</th>\n",
       "      <td>pandemic: kid go back school cvid19 coronaviru...</td>\n",
       "      <td>0.000000</td>\n",
       "      <td>0</td>\n",
       "    </tr>\n",
       "    <tr>\n",
       "      <th>16221</th>\n",
       "      <td>herculean task test long-term-car nursing-ho...</td>\n",
       "      <td>0.000000</td>\n",
       "      <td>0</td>\n",
       "    </tr>\n",
       "    <tr>\n",
       "      <th>3415</th>\n",
       "      <td>latest world news! thank covid19 coronavirus</td>\n",
       "      <td>0.625000</td>\n",
       "      <td>2</td>\n",
       "    </tr>\n",
       "    <tr>\n",
       "      <th>20648</th>\n",
       "      <td>okay feel okay, i'v told covid19 coronavirus l...</td>\n",
       "      <td>0.500000</td>\n",
       "      <td>2</td>\n",
       "    </tr>\n",
       "    <tr>\n",
       "      <th>15792</th>\n",
       "      <td>coronavirus plenissímo sabendo que é mai pegad...</td>\n",
       "      <td>0.000000</td>\n",
       "      <td>0</td>\n",
       "    </tr>\n",
       "    <tr>\n",
       "      <th>3294</th>\n",
       "      <td>#santaf comprará china elemento de biosegurida...</td>\n",
       "      <td>0.000000</td>\n",
       "      <td>0</td>\n",
       "    </tr>\n",
       "    <tr>\n",
       "      <th>4691</th>\n",
       "      <td>virus associ social isol caus immens increas m...</td>\n",
       "      <td>0.033333</td>\n",
       "      <td>2</td>\n",
       "    </tr>\n",
       "    <tr>\n",
       "      <th>25170</th>\n",
       "      <td>#sntesalud presnte55 haz del confinamiento un ...</td>\n",
       "      <td>0.000000</td>\n",
       "      <td>0</td>\n",
       "    </tr>\n",
       "    <tr>\n",
       "      <th>13589</th>\n",
       "      <td>covid_19 exercis patrol round big bed brought ...</td>\n",
       "      <td>-0.233333</td>\n",
       "      <td>1</td>\n",
       "    </tr>\n",
       "    <tr>\n",
       "      <th>16450</th>\n",
       "      <td>oklahoma report 96 new case 1 new death bring ...</td>\n",
       "      <td>0.068182</td>\n",
       "      <td>2</td>\n",
       "    </tr>\n",
       "    <tr>\n",
       "      <th>10575</th>\n",
       "      <td>\"el arcoiri detrá del covid19, que lo único qu...</td>\n",
       "      <td>0.000000</td>\n",
       "      <td>0</td>\n",
       "    </tr>\n",
       "    <tr>\n",
       "      <th>3833</th>\n",
       "      <td>??(21?)???????????????????????????????????? ?2...</td>\n",
       "      <td>0.000000</td>\n",
       "      <td>0</td>\n",
       "    </tr>\n",
       "    <tr>\n",
       "      <th>4577</th>\n",
       "      <td>join us saturday, juli 18th 10:30am (est) disc...</td>\n",
       "      <td>0.000000</td>\n",
       "      <td>0</td>\n",
       "    </tr>\n",
       "    <tr>\n",
       "      <th>18647</th>\n",
       "      <td>continu coronavirus pandemic, articl address r...</td>\n",
       "      <td>-0.013988</td>\n",
       "      <td>1</td>\n",
       "    </tr>\n",
       "    <tr>\n",
       "      <th>20490</th>\n",
       "      <td>offer best your best. [a thread blm blacklive...</td>\n",
       "      <td>1.000000</td>\n",
       "      <td>2</td>\n",
       "    </tr>\n",
       "    <tr>\n",
       "      <th>16487</th>\n",
       "      <td>???? no benefit hydroxychloroquin virus: u.k. ...</td>\n",
       "      <td>0.136364</td>\n",
       "      <td>2</td>\n",
       "    </tr>\n",
       "    <tr>\n",
       "      <th>9492</th>\n",
       "      <td>heard thrive webcast series! might littl late ...</td>\n",
       "      <td>-0.150000</td>\n",
       "      <td>1</td>\n",
       "    </tr>\n",
       "    <tr>\n",
       "      <th>17418</th>\n",
       "      <td>conoc un poco más de nosotro laprevencioneslam...</td>\n",
       "      <td>0.000000</td>\n",
       "      <td>0</td>\n",
       "    </tr>\n",
       "    <tr>\n",
       "      <th>7198</th>\n",
       "      <td>drug overdos death surg amid coronavirus pande...</td>\n",
       "      <td>-0.052778</td>\n",
       "      <td>1</td>\n",
       "    </tr>\n",
       "    <tr>\n",
       "      <th>6383</th>\n",
       "      <td>chanc get eeg ? provid free brain map time. pl...</td>\n",
       "      <td>0.273333</td>\n",
       "      <td>2</td>\n",
       "    </tr>\n",
       "    <tr>\n",
       "      <th>15451</th>\n",
       "      <td>walsal coronavirus cases, total covid 19 count...</td>\n",
       "      <td>0.068182</td>\n",
       "      <td>2</td>\n",
       "    </tr>\n",
       "    <tr>\n",
       "      <th>9809</th>\n",
       "      <td>\"the typic architectur north american suburbia...</td>\n",
       "      <td>0.000000</td>\n",
       "      <td>0</td>\n",
       "    </tr>\n",
       "    <tr>\n",
       "      <th>21284</th>\n",
       "      <td>boost mentalhealth physic health coronavirus p...</td>\n",
       "      <td>0.000000</td>\n",
       "      <td>0</td>\n",
       "    </tr>\n",
       "    <tr>\n",
       "      <th>15771</th>\n",
       "      <td>update: 46,331 confirm case georgia 2,004 deat...</td>\n",
       "      <td>0.000000</td>\n",
       "      <td>0</td>\n",
       "    </tr>\n",
       "    <tr>\n",
       "      <th>19995</th>\n",
       "      <td>light latest racial tension \"psycholog impacts...</td>\n",
       "      <td>0.425000</td>\n",
       "      <td>2</td>\n",
       "    </tr>\n",
       "    <tr>\n",
       "      <th>16157</th>\n",
       "      <td>12 de junio... 12th june coronavirus covid19 p...</td>\n",
       "      <td>0.000000</td>\n",
       "      <td>0</td>\n",
       "    </tr>\n",
       "    <tr>\n",
       "      <th>8181</th>\n",
       "      <td>take care wonder selves. rememb depress lies. ...</td>\n",
       "      <td>-0.066667</td>\n",
       "      <td>1</td>\n",
       "    </tr>\n",
       "    <tr>\n",
       "      <th>19636</th>\n",
       "      <td>isp webinar covid-19 psychosi watch live youtu...</td>\n",
       "      <td>0.136364</td>\n",
       "      <td>2</td>\n",
       "    </tr>\n",
       "    <tr>\n",
       "      <th>17407</th>\n",
       "      <td>need know william bates.... believ fuck gets. ...</td>\n",
       "      <td>-0.400000</td>\n",
       "      <td>1</td>\n",
       "    </tr>\n",
       "    <tr>\n",
       "      <th>9375</th>\n",
       "      <td>resourc look mentalhealth coronavirus pandem a...</td>\n",
       "      <td>0.000000</td>\n",
       "      <td>0</td>\n",
       "    </tr>\n",
       "    <tr>\n",
       "      <th>19412</th>\n",
       "      <td>today mission space scrubbed, get thrown back ...</td>\n",
       "      <td>-0.050000</td>\n",
       "      <td>1</td>\n",
       "    </tr>\n",
       "    <tr>\n",
       "      <th>17685</th>\n",
       "      <td>?? murió de covid-19 tulio trigozo, fundador d...</td>\n",
       "      <td>0.000000</td>\n",
       "      <td>0</td>\n",
       "    </tr>\n",
       "    <tr>\n",
       "      <th>7168</th>\n",
       "      <td>anoth coronavirus tragedi taken place young pe...</td>\n",
       "      <td>0.118182</td>\n",
       "      <td>2</td>\n",
       "    </tr>\n",
       "    <tr>\n",
       "      <th>2377</th>\n",
       "      <td>mañana fui invitado una entrevista la cual ser...</td>\n",
       "      <td>0.136364</td>\n",
       "      <td>2</td>\n",
       "    </tr>\n",
       "    <tr>\n",
       "      <th>389</th>\n",
       "      <td>que tiempo aquello en los que en españa sólo e...</td>\n",
       "      <td>0.000000</td>\n",
       "      <td>0</td>\n",
       "    </tr>\n",
       "    <tr>\n",
       "      <th>16894</th>\n",
       "      <td>governor pass coronavirus buck mayor instock =...</td>\n",
       "      <td>0.000000</td>\n",
       "      <td>0</td>\n",
       "    </tr>\n",
       "  </tbody>\n",
       "</table>\n",
       "</div>"
      ],
      "text/plain": [
       "                                                    text  Polarity  c1\n",
       "3661   washington report 818 new case bring total con...  0.081818   2\n",
       "12691                 covid19 stayhom isol selfquarantin  0.000000   0\n",
       "8699   alarm new data show half youngadult (age 18-29...  0.000606   2\n",
       "8994   person wear face mask supermarket today. dont...  0.000000   0\n",
       "24261                        #covid19 coronavirus europa  0.000000   0\n",
       "11687  \"the declin influenza case occur exact test co...  0.250000   2\n",
       "3439   maduro extiend estado de alarma cuarentena en ...  0.000000   0\n",
       "15164  luo baishan, investigador de la compañía china...  0.000000   0\n",
       "25076  number peopl victoria hospit battl covid19 alm... -0.250000   1\n",
       "1098   l'influenc des journalist diminu polqc qcpol q...  0.000000   0\n",
       "3948   alguien que le pase est twitt nicoleta cía arg...  0.000000   0\n",
       "11890  5 new case barbado [0:42 gmt coronavirus coron...  0.136364   2\n",
       "22646  coronavirus hot spots: could mid-atlant northe...  0.375000   2\n",
       "16944  #trumprallytulsa coronavirus covid19 coronapal...  0.000000   0\n",
       "9252   pandemic: kid go back school cvid19 coronaviru...  0.000000   0\n",
       "16221  herculean task test long-term-car nursing-ho...  0.000000   0\n",
       "3415        latest world news! thank covid19 coronavirus  0.625000   2\n",
       "20648  okay feel okay, i'v told covid19 coronavirus l...  0.500000   2\n",
       "15792  coronavirus plenissímo sabendo que é mai pegad...  0.000000   0\n",
       "3294   #santaf comprará china elemento de biosegurida...  0.000000   0\n",
       "4691   virus associ social isol caus immens increas m...  0.033333   2\n",
       "25170  #sntesalud presnte55 haz del confinamiento un ...  0.000000   0\n",
       "13589  covid_19 exercis patrol round big bed brought ... -0.233333   1\n",
       "16450  oklahoma report 96 new case 1 new death bring ...  0.068182   2\n",
       "10575  \"el arcoiri detrá del covid19, que lo único qu...  0.000000   0\n",
       "3833   ??(21?)???????????????????????????????????? ?2...  0.000000   0\n",
       "4577   join us saturday, juli 18th 10:30am (est) disc...  0.000000   0\n",
       "18647  continu coronavirus pandemic, articl address r... -0.013988   1\n",
       "20490  offer best your best. [a thread blm blacklive...  1.000000   2\n",
       "16487  ???? no benefit hydroxychloroquin virus: u.k. ...  0.136364   2\n",
       "9492   heard thrive webcast series! might littl late ... -0.150000   1\n",
       "17418  conoc un poco más de nosotro laprevencioneslam...  0.000000   0\n",
       "7198   drug overdos death surg amid coronavirus pande... -0.052778   1\n",
       "6383   chanc get eeg ? provid free brain map time. pl...  0.273333   2\n",
       "15451  walsal coronavirus cases, total covid 19 count...  0.068182   2\n",
       "9809   \"the typic architectur north american suburbia...  0.000000   0\n",
       "21284  boost mentalhealth physic health coronavirus p...  0.000000   0\n",
       "15771  update: 46,331 confirm case georgia 2,004 deat...  0.000000   0\n",
       "19995  light latest racial tension \"psycholog impacts...  0.425000   2\n",
       "16157  12 de junio... 12th june coronavirus covid19 p...  0.000000   0\n",
       "8181   take care wonder selves. rememb depress lies. ... -0.066667   1\n",
       "19636  isp webinar covid-19 psychosi watch live youtu...  0.136364   2\n",
       "17407  need know william bates.... believ fuck gets. ... -0.400000   1\n",
       "9375   resourc look mentalhealth coronavirus pandem a...  0.000000   0\n",
       "19412  today mission space scrubbed, get thrown back ... -0.050000   1\n",
       "17685  ?? murió de covid-19 tulio trigozo, fundador d...  0.000000   0\n",
       "7168   anoth coronavirus tragedi taken place young pe...  0.118182   2\n",
       "2377   mañana fui invitado una entrevista la cual ser...  0.136364   2\n",
       "389    que tiempo aquello en los que en españa sólo e...  0.000000   0\n",
       "16894  governor pass coronavirus buck mayor instock =...  0.000000   0"
      ]
     },
     "execution_count": 5,
     "metadata": {},
     "output_type": "execute_result"
    }
   ],
   "source": [
    "from textblob import TextBlob\n",
    "def polarity(text):\n",
    "    return TextBlob(text).sentiment.polarity\n",
    "def label1(score):\n",
    "    if score < 0:\n",
    "        return 1\n",
    "    elif score > 0:\n",
    "        return 2\n",
    "    else:\n",
    "        return 0  \n",
    "df['Polarity'] = df['text'].apply(polarity)\n",
    "df['c1'] = df['Polarity'].apply(label1)\n",
    "df.head(50)"
   ]
  },
  {
   "cell_type": "code",
   "execution_count": 6,
   "metadata": {},
   "outputs": [
    {
     "name": "stdout",
     "output_type": "stream",
     "text": [
      "[[0. 0. 1.]\n",
      " [1. 0. 0.]\n",
      " [0. 0. 1.]\n",
      " ...\n",
      " [0. 1. 0.]\n",
      " [1. 0. 0.]\n",
      " [1. 0. 0.]]\n"
     ]
    }
   ],
   "source": [
    "sq_len = 300\n",
    "\n",
    "def go(df):\n",
    "    tokenizer = Tokenizer()\n",
    "    tokenizer.fit_on_texts(df.text)\n",
    "    vocab_size = len(tokenizer.word_index)+1\n",
    "    #print(vocab_size)\n",
    "    x_data = pad_sequences(tokenizer.texts_to_sequences(df['text']),maxlen =sq_len)\n",
    "    word_index = tokenizer.word_index\n",
    "    #x_test = pad_sequences(tokenizer.texts_to_sequences(df_test['text']), maxlen=sq_len)\n",
    "    return x_data, word_index\n",
    "\n",
    "\n",
    "uniques, ids = np.unique(df.c1, return_inverse=True)\n",
    "y_data = to_categorical(ids)\n",
    "x_data , word_index = go(df)\n",
    "print(y_data)"
   ]
  },
  {
   "cell_type": "code",
   "execution_count": 7,
   "metadata": {},
   "outputs": [
    {
     "name": "stdout",
     "output_type": "stream",
     "text": [
      "(20455, 300)\n",
      "(20455, 3)\n"
     ]
    }
   ],
   "source": [
    "x_train, x_test, y_train, y_test = train_test_split(x_data, y_data, test_size = 0.2, random_state=42)\n",
    "\n",
    "\n",
    "\n",
    "\n",
    "print(x_train.shape)\n",
    "print(y_train.shape)\n",
    "input_shape = x_train.shape[1]\n",
    "#input_shapex = y_train.shape[1]\n",
    "\n",
    "import tensorflow as tf\n",
    "physical_devices = tf.config.list_physical_devices('GPU') \n",
    "tf.config.experimental.set_memory_growth(physical_devices[0], True)"
   ]
  },
  {
   "cell_type": "code",
   "execution_count": 8,
   "metadata": {},
   "outputs": [],
   "source": [
    "doc = [_text.split() for _text in df.text]\n",
    "w2v_size = 3\n",
    "w2v_window = 7\n",
    "w2v_epoch = 32\n",
    "w2v_min_count = 10\n",
    "w2v_model = gensim.models.word2vec.Word2Vec(size=w2v_size,window = w2v_window ,min_count = w2v_min_count ,workers=8)"
   ]
  },
  {
   "cell_type": "code",
   "execution_count": 9,
   "metadata": {},
   "outputs": [],
   "source": [
    "w2v_model.build_vocab(doc)"
   ]
  },
  {
   "cell_type": "code",
   "execution_count": 10,
   "metadata": {},
   "outputs": [
    {
     "name": "stdout",
     "output_type": "stream",
     "text": [
      "5088\n"
     ]
    }
   ],
   "source": [
    "words = w2v_model.wv.vocab.keys()\n",
    "vocab_size = 60000\n",
    "#print(\"Vocab size\", vocab_size)\n",
    "print(len(words))"
   ]
  },
  {
   "cell_type": "code",
   "execution_count": 11,
   "metadata": {},
   "outputs": [
    {
     "name": "stderr",
     "output_type": "stream",
     "text": [
      "C:\\Users\\admin\\Anaconda3\\envs\\tensorflowsession\\lib\\site-packages\\ipykernel_launcher.py:1: DeprecationWarning: Call to deprecated `most_similar` (Method will be removed in 4.0.0, use self.wv.most_similar() instead).\n",
      "  \"\"\"Entry point for launching an IPython kernel.\n"
     ]
    },
    {
     "data": {
      "text/plain": [
       "[('subscrib', 0.9999830722808838),\n",
       " ('\"we', 0.9998701810836792),\n",
       " ('#dca4covid19', 0.9996271729469299),\n",
       " ('art', 0.9991812109947205),\n",
       " ('allow', 0.9982412457466125),\n",
       " ('covid?19', 0.9980893135070801),\n",
       " ('dumptrump2020', 0.9977921843528748),\n",
       " ('problems,', 0.9976803660392761),\n",
       " ('contr', 0.9976792335510254),\n",
       " ('comic', 0.9973883032798767)]"
      ]
     },
     "execution_count": 11,
     "metadata": {},
     "output_type": "execute_result"
    }
   ],
   "source": [
    "w2v_model.most_similar(\"covid19\")"
   ]
  },
  {
   "cell_type": "code",
   "execution_count": 12,
   "metadata": {},
   "outputs": [
    {
     "data": {
      "text/plain": [
       "(9784919, 15365792)"
      ]
     },
     "execution_count": 12,
     "metadata": {},
     "output_type": "execute_result"
    }
   ],
   "source": [
    "w2v_model.train(doc, total_examples=len(doc), epochs=w2v_epoch)"
   ]
  },
  {
   "cell_type": "code",
   "execution_count": 13,
   "metadata": {},
   "outputs": [
    {
     "name": "stdout",
     "output_type": "stream",
     "text": [
      "(60000, 3)\n"
     ]
    }
   ],
   "source": [
    "embedding_matrix = np.zeros((vocab_size, w2v_size))\n",
    "tokenizer = Tokenizer()\n",
    "for word, i in tokenizer.word_index.items():\n",
    "    if word in w2v_model.wv:\n",
    "        embedding_matrix[i] = w2v_model.wv[word]\n",
    "print(embedding_matrix.shape)"
   ]
  },
  {
   "cell_type": "code",
   "execution_count": 20,
   "metadata": {},
   "outputs": [
    {
     "name": "stdout",
     "output_type": "stream",
     "text": [
      "Model: \"sequential_2\"\n",
      "_________________________________________________________________\n",
      "Layer (type)                 Output Shape              Param #   \n",
      "=================================================================\n",
      "embedding_2 (Embedding)      (None, 300, 3)            180000    \n",
      "_________________________________________________________________\n",
      "lstm_2 (LSTM)                (None, 128)               67584     \n",
      "_________________________________________________________________\n",
      "dense_2 (Dense)              (None, 3)                 387       \n",
      "_________________________________________________________________\n",
      "activation_2 (Activation)    (None, 3)                 0         \n",
      "=================================================================\n",
      "Total params: 247,971\n",
      "Trainable params: 247,971\n",
      "Non-trainable params: 0\n",
      "_________________________________________________________________\n"
     ]
    }
   ],
   "source": [
    "model = Sequential()\n",
    "model.add(Embedding(input_dim=vocab_size,output_dim=3,weights=[embedding_matrix],input_length=input_shape))\n",
    "#model.add(Embedding(input_dim=vocab_size+1,output_dim=3, input_length = input_shape))\n",
    "model.add(LSTM(128))\n",
    "model.add(Dense(3))\n",
    "model.add(Activation('softmax'))\n",
    "model.summary()\n",
    "learning_rate = 1e-3\n",
    "model.compile(loss='categorical_crossentropy',\n",
    "              optimizer=Adam(learning_rate),\n",
    "              metrics=['accuracy'])"
   ]
  },
  {
   "cell_type": "code",
   "execution_count": 22,
   "metadata": {},
   "outputs": [
    {
     "name": "stdout",
     "output_type": "stream",
     "text": [
      "Epoch 1/20\n",
      "640/640 [==============================] - 12s 19ms/step - loss: 5.1692e-04 - accuracy: 0.9998\n",
      "Epoch 2/20\n",
      "640/640 [==============================] - 12s 19ms/step - loss: 9.7830e-05 - accuracy: 1.0000\n",
      "Epoch 3/20\n",
      "640/640 [==============================] - 12s 19ms/step - loss: 5.8462e-05 - accuracy: 1.0000\n",
      "Epoch 4/20\n",
      "640/640 [==============================] - 12s 19ms/step - loss: 2.3696e-05 - accuracy: 1.0000\n",
      "Epoch 5/20\n",
      "640/640 [==============================] - 12s 19ms/step - loss: 1.5803e-05 - accuracy: 1.0000\n",
      "Epoch 6/20\n",
      "640/640 [==============================] - 12s 19ms/step - loss: 1.1135e-05 - accuracy: 1.0000\n",
      "Epoch 7/20\n",
      "640/640 [==============================] - 12s 19ms/step - loss: 7.9267e-06 - accuracy: 1.0000\n",
      "Epoch 8/20\n",
      "640/640 [==============================] - 12s 19ms/step - loss: 5.6736e-06 - accuracy: 1.0000\n",
      "Epoch 9/20\n",
      "640/640 [==============================] - 12s 19ms/step - loss: 4.0313e-06 - accuracy: 1.0000\n",
      "Epoch 10/20\n",
      "640/640 [==============================] - 12s 19ms/step - loss: 2.8452e-06 - accuracy: 1.0000\n",
      "Epoch 11/20\n",
      "640/640 [==============================] - 12s 19ms/step - loss: 1.9545e-06 - accuracy: 1.0000\n",
      "Epoch 12/20\n",
      "640/640 [==============================] - 12s 19ms/step - loss: 1.3448e-06 - accuracy: 1.0000\n",
      "Epoch 13/20\n",
      "640/640 [==============================] - 12s 19ms/step - loss: 9.3043e-07 - accuracy: 1.0000\n",
      "Epoch 14/20\n",
      "640/640 [==============================] - 12s 19ms/step - loss: 6.2046e-07 - accuracy: 1.0000\n",
      "Epoch 15/20\n",
      "640/640 [==============================] - 12s 19ms/step - loss: 4.2884e-07 - accuracy: 1.0000\n",
      "Epoch 16/20\n",
      "640/640 [==============================] - 12s 19ms/step - loss: 2.8484e-07 - accuracy: 1.0000\n",
      "Epoch 17/20\n",
      "640/640 [==============================] - 12s 19ms/step - loss: 1.9344e-07 - accuracy: 1.0000\n",
      "Epoch 18/20\n",
      "640/640 [==============================] - 12s 19ms/step - loss: 1.3031e-07 - accuracy: 1.0000\n",
      "Epoch 19/20\n",
      "640/640 [==============================] - 12s 19ms/step - loss: 9.1531e-08 - accuracy: 1.0000\n",
      "Epoch 20/20\n",
      "640/640 [==============================] - 12s 19ms/step - loss: 6.1763e-08 - accuracy: 1.0000\n"
     ]
    }
   ],
   "source": [
    "\n",
    "saving_path = \"./traning_/modelWeights\"\n",
    "\n",
    "BATCH_SIZE = 32\n",
    "EPOCHS = 20\n",
    "\n",
    "\n",
    "# load weights\n",
    "\n",
    "#model.load_weights(saving_path, by_name=False, skip_mismatch=False)\n",
    "\n",
    "model.fit(x_train,y_train, batch_size=BATCH_SIZE, epochs=EPOCHS)\n",
    "\n",
    "model.save_weights(saving_path, overwrite=True, save_format=None)"
   ]
  },
  {
   "cell_type": "code",
   "execution_count": 23,
   "metadata": {},
   "outputs": [
    {
     "name": "stdout",
     "output_type": "stream",
     "text": [
      "160/160 [==============================] - 1s 8ms/step - loss: 1.3394 - accuracy: 0.8966\n"
     ]
    }
   ],
   "source": [
    "result = model.evaluate(x_test, y_test, batch_size = BATCH_SIZE)\n",
    "prediction = model.predict(x_test)"
   ]
  },
  {
   "cell_type": "code",
   "execution_count": 24,
   "metadata": {},
   "outputs": [
    {
     "name": "stdout",
     "output_type": "stream",
     "text": [
      "[0 2 0 ... 2 0 0]\n",
      "[0 2 1 ... 2 0 0]\n"
     ]
    }
   ],
   "source": [
    "def decoder(predictions):\n",
    "    return (predictions == predictions.max(axis=1, keepdims=True)).astype(float)\n",
    "prediction_y = decoder(prediction)\n",
    " \n",
    "acutal_y = uniques[y_test.argmax(1)]\n",
    "predict_y = uniques[prediction_y.argmax(1)]\n",
    "print(acutal_y)\n",
    "print(predict_y)"
   ]
  },
  {
   "cell_type": "code",
   "execution_count": 26,
   "metadata": {},
   "outputs": [
    {
     "name": "stdout",
     "output_type": "stream",
     "text": [
      "Confusion Mat: \n",
      " [[2426  118   60]\n",
      " [  72  819  106]\n",
      " [  56  117 1340]]\n",
      "Recall:  0.8965584669534611\n",
      "Precision:  0.8984026740647816\n",
      "F1 Score:  0.8973137981857198\n",
      "Accuracy:  0.8965584669534611\n"
     ]
    }
   ],
   "source": [
    "import sklearn.metrics  as skmet\n",
    "cm = skmet.confusion_matrix(acutal_y, predict_y)\n",
    "print(\"Confusion Mat: \\n\", cm)\n",
    "print(\"Recall: \", skmet.recall_score(acutal_y, predict_y, average = \"weighted\"))\n",
    "print(\"Precision: \", skmet.precision_score(acutal_y, predict_y, average = \"weighted\"))\n",
    "print(\"F1 Score: \", skmet.f1_score(acutal_y, predict_y, average = \"weighted\"))\n",
    "print(\"Accuracy: \", skmet.accuracy_score(acutal_y, predict_y))"
   ]
  },
  {
   "cell_type": "code",
   "execution_count": 27,
   "metadata": {},
   "outputs": [
    {
     "name": "stdout",
     "output_type": "stream",
     "text": [
      "WARNING:tensorflow:From <ipython-input-27-65002cffc99e>:5: Sequential.predict_proba (from tensorflow.python.keras.engine.sequential) is deprecated and will be removed after 2021-01-01.\n",
      "Instructions for updating:\n",
      "Please use `model.predict()` instead.\n"
     ]
    },
    {
     "data": {
      "image/png": "[encoded data removed]",
      "text/plain": [
       "<Figure size 432x288 with 1 Axes>"
      ]
     },
     "metadata": {
      "needs_background": "light"
     },
     "output_type": "display_data"
    }
   ],
   "source": [
    "from sklearn.metrics import precision_recall_curve\n",
    "import matplotlib.pyplot as plt\n",
    "precision = dict()\n",
    "recall = dict()\n",
    "_probs = model.predict_proba(x_test)\n",
    "for i in range(3):\n",
    "    precision[i], recall[i], _ = precision_recall_curve(y_test[:, i],\n",
    "                                                        _probs[:, i])\n",
    "    plt.plot(recall[i], precision[i], lw=2, label='class {}'.format(i))\n",
    "\n",
    "plt.xlabel(\"recall\")\n",
    "plt.ylabel(\"precision\")\n",
    "plt.legend(loc=\"best\")\n",
    "plt.title(\"precision vs. recall curve\")\n",
    "plt.show()"
   ]
  },
  {
   "cell_type": "code",
   "execution_count": 28,
   "metadata": {},
   "outputs": [
    {
     "data": {
      "image/png": "[encoded data removed]",
      "text/plain": [
       "<Figure size 432x288 with 1 Axes>"
      ]
     },
     "metadata": {
      "needs_background": "light"
     },
     "output_type": "display_data"
    }
   ],
   "source": [
    "fpr = dict()\n",
    "tpr = dict()\n",
    "for i in range(3):\n",
    "    fpr[i], tpr[i], _ = roc_curve(y_test[:, i],\n",
    "                                  _probs[:, i])\n",
    "    plt.plot(fpr[i], tpr[i], lw=2, label='class {}'.format(i))\n",
    "plt.xlabel(\"false positive rate\")\n",
    "plt.ylabel(\"true positive rate\")\n",
    "plt.legend(loc=\"best\")\n",
    "plt.title(\"ROC curve\")\n",
    "plt.show()"
   ]
  },
  {
   "cell_type": "code",
   "execution_count": 29,
   "metadata": {},
   "outputs": [
    {
     "data": {
      "text/plain": [
       "RandomForestClassifier(bootstrap=True, ccp_alpha=0.0, class_weight=None,\n",
       "                       criterion='entropy', max_depth=None, max_features='auto',\n",
       "                       max_leaf_nodes=None, max_samples=None,\n",
       "                       min_impurity_decrease=0.0, min_impurity_split=None,\n",
       "                       min_samples_leaf=1, min_samples_split=2,\n",
       "                       min_weight_fraction_leaf=0.0, n_estimators=25,\n",
       "                       n_jobs=None, oob_score=False, random_state=0, verbose=0,\n",
       "                       warm_start=False)"
      ]
     },
     "execution_count": 29,
     "metadata": {},
     "output_type": "execute_result"
    }
   ],
   "source": [
    "from sklearn.ensemble import RandomForestClassifier\n",
    "#cv = CountVectorizer(max_features = 150)\n",
    "classifier = RandomForestClassifier(n_estimators = 25, criterion = 'entropy',min_samples_split=2,random_state = 0,bootstrap=True)\n",
    "classifier.fit(x_train, y_train)"
   ]
  },
  {
   "cell_type": "code",
   "execution_count": 30,
   "metadata": {},
   "outputs": [
    {
     "name": "stdout",
     "output_type": "stream",
     "text": [
      "[0 2 0 ... 2 0 0]\n",
      "[0 0 0 ... 2 0 0]\n"
     ]
    }
   ],
   "source": [
    "y_pred = classifier.predict(x_test)\n",
    "#print(y_pred)\n",
    "def decoder(predictions):\n",
    "    return (predictions == predictions.max(axis=1, keepdims=True)).astype(float)\n",
    "prediction_y = decoder(y_pred)\n",
    "#prediction_y\n",
    "acutal_y = uniques[y_test.argmax(1)]\n",
    "predict_y = uniques[prediction_y.argmax(1)]\n",
    "print(acutal_y)\n",
    "print(predict_y)"
   ]
  },
  {
   "cell_type": "code",
   "execution_count": 32,
   "metadata": {},
   "outputs": [
    {
     "name": "stdout",
     "output_type": "stream",
     "text": [
      "Confusion Mat: \n",
      " [[2547    2   55]\n",
      " [ 459  488   50]\n",
      " [ 748    9  756]]\n",
      "Recall:  0.741298396558467\n",
      "Precision:  0.7959057710632949\n",
      "F1 Score:  0.7235806007842807\n",
      "Accuracy:  0.741298396558467\n"
     ]
    }
   ],
   "source": [
    "import sklearn.metrics  as skmet\n",
    "cm = skmet.confusion_matrix(acutal_y, predict_y)\n",
    "print(\"Confusion Mat: \\n\", cm)\n",
    "print(\"Recall: \", skmet.recall_score(acutal_y, predict_y, average = \"weighted\"))\n",
    "print(\"Precision: \", skmet.precision_score(acutal_y, predict_y, average = \"weighted\"))\n",
    "print(\"F1 Score: \", skmet.f1_score(acutal_y, predict_y, average = \"weighted\"))\n",
    "print(\"Accuracy: \", skmet.accuracy_score(acutal_y, predict_y))"
   ]
  },
  {
   "cell_type": "code",
   "execution_count": 33,
   "metadata": {},
   "outputs": [
    {
     "data": {
      "text/plain": [
       "DecisionTreeClassifier(ccp_alpha=0.0, class_weight=None, criterion='entropy',\n",
       "                       max_depth=None, max_features=None, max_leaf_nodes=None,\n",
       "                       min_impurity_decrease=0.0, min_impurity_split=None,\n",
       "                       min_samples_leaf=1, min_samples_split=7,\n",
       "                       min_weight_fraction_leaf=0.0, presort='deprecated',\n",
       "                       random_state=0, splitter='best')"
      ]
     },
     "execution_count": 33,
     "metadata": {},
     "output_type": "execute_result"
    }
   ],
   "source": [
    "#appllying decision tree\n",
    "from sklearn.tree import DecisionTreeClassifier\n",
    "classifier1 = DecisionTreeClassifier(min_samples_split=7,criterion = 'entropy', random_state = 0,max_depth=None)\n",
    "classifier1.fit(x_train, y_train)"
   ]
  },
  {
   "cell_type": "code",
   "execution_count": 34,
   "metadata": {},
   "outputs": [
    {
     "name": "stdout",
     "output_type": "stream",
     "text": [
      "[[1. 0. 0.]\n",
      " [0. 0. 1.]\n",
      " [0. 0. 1.]\n",
      " ...\n",
      " [0. 0. 1.]\n",
      " [0. 0. 1.]\n",
      " [1. 0. 0.]]\n"
     ]
    }
   ],
   "source": [
    "y_pred = classifier1.predict(x_test)\n",
    "print(y_pred)"
   ]
  },
  {
   "cell_type": "code",
   "execution_count": 35,
   "metadata": {},
   "outputs": [
    {
     "name": "stdout",
     "output_type": "stream",
     "text": [
      "[0 2 0 ... 2 0 0]\n",
      "[0 2 2 ... 2 2 0]\n"
     ]
    }
   ],
   "source": [
    "def decoder(predictions):\n",
    "    return (predictions == predictions.max(axis=1, keepdims=True)).astype(float)\n",
    "prediction_y = decoder(y_pred)\n",
    "acutal_y = uniques[y_test.argmax(1)]\n",
    "predict_y = uniques[prediction_y.argmax(1)]\n",
    "print(acutal_y)\n",
    "print(predict_y)"
   ]
  },
  {
   "cell_type": "code",
   "execution_count": 37,
   "metadata": {},
   "outputs": [
    {
     "name": "stdout",
     "output_type": "stream",
     "text": [
      "Confusion Mat: \n",
      " [[2013  244  347]\n",
      " [ 259  556  182]\n",
      " [ 441  177  895]]\n",
      "Recall:  0.677356276886977\n",
      "Precision:  0.6747053439774581\n",
      "F1 Score:  0.6756917043883444\n",
      "Accuracy:  0.677356276886977\n"
     ]
    }
   ],
   "source": [
    "import sklearn.metrics  as skmet\n",
    "cm = skmet.confusion_matrix(acutal_y, predict_y)\n",
    "print(\"Confusion Mat: \\n\", cm)\n",
    "print(\"Recall: \", skmet.recall_score(acutal_y, predict_y, average = \"weighted\"))\n",
    "print(\"Precision: \", skmet.precision_score(acutal_y, predict_y, average = \"weighted\"))\n",
    "print(\"F1 Score: \", skmet.f1_score(acutal_y, predict_y, average = \"weighted\"))\n",
    "print(\"Accuracy: \", skmet.accuracy_score(acutal_y, predict_y))"
   ]
  },
  {
   "cell_type": "code",
   "execution_count": 33,
   "metadata": {},
   "outputs": [
    {
     "name": "stdout",
     "output_type": "stream",
     "text": [
      "Collecting matplotlib\n",
      "  Downloading matplotlib-3.3.2-cp37-cp37m-win_amd64.whl (8.5 MB)\n",
      "Requirement already satisfied: certifi>=2020.06.20 in g:\\installed_softwares\\anaconda3\\envs\\tensorflow\\lib\\site-packages (from matplotlib) (2020.6.20)\n",
      "Collecting pillow>=6.2.0\n",
      "  Downloading Pillow-8.0.1-cp37-cp37m-win_amd64.whl (2.1 MB)\n",
      "Requirement already satisfied: numpy>=1.15 in g:\\installed_softwares\\anaconda3\\envs\\tensorflow\\lib\\site-packages (from matplotlib) (1.18.5)\n",
      "Requirement already satisfied: pyparsing!=2.0.4,!=2.1.2,!=2.1.6,>=2.0.3 in g:\\installed_softwares\\anaconda3\\envs\\tensorflow\\lib\\site-packages (from matplotlib) (2.4.7)\n",
      "Collecting kiwisolver>=1.0.1\n",
      "  Downloading kiwisolver-1.2.0-cp37-none-win_amd64.whl (57 kB)\n",
      "Collecting cycler>=0.10\n",
      "  Downloading cycler-0.10.0-py2.py3-none-any.whl (6.5 kB)\n",
      "Requirement already satisfied: python-dateutil>=2.1 in g:\\installed_softwares\\anaconda3\\envs\\tensorflow\\lib\\site-packages (from matplotlib) (2.8.1)\n",
      "Requirement already satisfied: six in g:\\installed_softwares\\anaconda3\\envs\\tensorflow\\lib\\site-packages (from cycler>=0.10->matplotlib) (1.15.0)\n",
      "Installing collected packages: pillow, kiwisolver, cycler, matplotlib\n",
      "Successfully installed cycler-0.10.0 kiwisolver-1.2.0 matplotlib-3.3.2 pillow-8.0.1\n"
     ]
    }
   ],
   "source": [
    "!pip install matplotlib"
   ]
  },
  {
   "cell_type": "code",
   "execution_count": null,
   "metadata": {},
   "outputs": [],
   "source": []
  }
 ],
 "metadata": {
  "kernelspec": {
   "display_name": "Python 3",
   "language": "python",
   "name": "python3"
  },
  "language_info": {
   "codemirror_mode": {
    "name": "ipython",
    "version": 3
   },
   "file_extension": ".py",
   "mimetype": "text/x-python",
   "name": "python",
   "nbconvert_exporter": "python",
   "pygments_lexer": "ipython3",
   "version": "3.7.7"
  }
 },
 "nbformat": 4,
 "nbformat_minor": 4
}
